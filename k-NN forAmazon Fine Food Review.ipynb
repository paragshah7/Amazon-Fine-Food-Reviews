{
  "nbformat": 4,
  "nbformat_minor": 0,
  "metadata": {
    "kernelspec": {
      "display_name": "Python 3",
      "language": "python",
      "name": "python3"
    },
    "language_info": {
      "codemirror_mode": {
        "name": "ipython",
        "version": 3
      },
      "file_extension": ".py",
      "mimetype": "text/x-python",
      "name": "python",
      "nbconvert_exporter": "python",
      "pygments_lexer": "ipython3",
      "version": "3.6.4"
    },
    "colab": {
      "name": "k-NN -  Amazon Fine Food Review.ipynb",
      "provenance": [],
      "collapsed_sections": []
    }
  },
  "cells": [
    {
      "cell_type": "markdown",
      "metadata": {
        "_uuid": "60f7cc6493e6a118c63d7172d7374fd52fcc1bed",
        "id": "ws25YKsVXz0d",
        "colab_type": "text"
      },
      "source": [
        "# Objective : \n",
        "Classify the Amazon food reviews and determine whether it is positive or negative. "
      ]
    },
    {
      "cell_type": "markdown",
      "metadata": {
        "id": "9vqGuNq_Xz0f",
        "colab_type": "text"
      },
      "source": [
        "## Workflow:\n",
        "1. Sort data based on time.\n",
        "2. Convert reviews of \"Amazon Fine Food Review\" dataset into vectors using Bag of words. \n",
        "3. Split data into train and test.\n",
        "4. Find best hyperparameter by k-fold cross validation.\n",
        "5. Apply k-NN model on the train data.\n",
        "6. Find accuracy of the model.\n",
        "7. Print confusion matrix and plot error plot. "
      ]
    },
    {
      "cell_type": "code",
      "metadata": {
        "_uuid": "096c71cde4044ebb254b1ea72e9d984b00690516",
        "id": "VNwivV-KXz0g",
        "colab_type": "code",
        "outputId": "0a68cee6-bbf3-4c34-e8a9-4abd8203e2bb",
        "colab": {}
      },
      "source": [
        "%matplotlib inline\n",
        "\n",
        "import sqlite3\n",
        "import pandas as pd\n",
        "import numpy as np\n",
        "import nltk\n",
        "import matplotlib.pyplot as plt\n",
        "import seaborn as sns\n",
        "from sklearn.feature_extraction.text import TfidfTransformer\n",
        "from sklearn.feature_extraction.text import TfidfVectorizer\n",
        "import re, gensim\n",
        "import string\n",
        "from nltk.corpus import stopwords\n",
        "from nltk.stem.wordnet import WordNetLemmatizer\n",
        "from sklearn.feature_extraction.text import CountVectorizer\n",
        "from sklearn.manifold import TSNE\n",
        "from sklearn.preprocessing import StandardScaler\n",
        "from sklearn.decomposition import TruncatedSVD\n",
        "from sklearn.cross_validation import train_test_split\n",
        "from sklearn.neighbors import KNeighborsClassifier\n",
        "from sklearn.metrics import accuracy_score\n",
        "from sklearn.cross_validation import cross_val_score\n",
        "from collections import Counter\n",
        "from sklearn.metrics import accuracy_score\n",
        "from sklearn import cross_validation\n",
        "from sklearn.metrics import confusion_matrix"
      ],
      "execution_count": 0,
      "outputs": [
        {
          "output_type": "stream",
          "text": [
            "/home/dev/anaconda3/lib/python3.6/site-packages/sklearn/cross_validation.py:41: DeprecationWarning: This module was deprecated in version 0.18 in favor of the model_selection module into which all the refactored classes and functions are moved. Also note that the interface of the new CV iterators are different from that of this module. This module will be removed in 0.20.\n",
            "  \"This module will be removed in 0.20.\", DeprecationWarning)\n"
          ],
          "name": "stderr"
        }
      ]
    },
    {
      "cell_type": "markdown",
      "metadata": {
        "_uuid": "08398bd5ff12ab024f3c8216167b7bd042df81b9",
        "id": "4ysHUjBQXz0k",
        "colab_type": "text"
      },
      "source": [
        "## Importing data"
      ]
    },
    {
      "cell_type": "code",
      "metadata": {
        "_uuid": "7d8b6597c15c50a0b2315378e025569958c9c338",
        "id": "zY6vI3HsXz0l",
        "colab_type": "code",
        "colab": {}
      },
      "source": [
        "# Reading data from .sqlite file,choosing only positive and negative reviews not neutral reviews.\n",
        "# using the SQLite Table to read data.\n",
        "con = sqlite3.connect('database.sqlite') \n",
        "\n",
        "# filtering only positive and negative reviews i.e. \n",
        "# not taking into consideration those reviews with Score=3\n",
        "filtered_data = pd.read_sql_query(\"SELECT * FROM Reviews WHERE Score != 3\", con) \n",
        "\n",
        "# Give reviews with Score>3 a positive rating, and reviews with a score<3 a negative rating.\n",
        "def partition(x):\n",
        "    if x < 3:\n",
        "        return 'negative'\n",
        "    return 'positive'\n",
        "\n",
        "# changing reviews with score less than 3 to be positive and vice-versa\n",
        "actualScore = filtered_data['Score']\n",
        "positiveNegative = actualScore.map(partition) \n",
        "filtered_data['Score'] = positiveNegative\n"
      ],
      "execution_count": 0,
      "outputs": []
    },
    {
      "cell_type": "markdown",
      "metadata": {
        "_uuid": "20006cd295b6df614e069aa89eabb048ba14e11f",
        "id": "Qvpfml4uXz0p",
        "colab_type": "text"
      },
      "source": [
        "## Cleansing data"
      ]
    },
    {
      "cell_type": "code",
      "metadata": {
        "_uuid": "42e9ac6e5a90d9f7facf1f85be2a33880b20f94a",
        "id": "xK7JXDJ-Xz0q",
        "colab_type": "code",
        "outputId": "48d2b7d7-3374-48c4-900f-da4565a951e4",
        "colab": {}
      },
      "source": [
        "# removes duplicate data from dataset that are repeatedly mentioned.\n",
        "# Sorting data according to ProductId in ascending order\n",
        "sorted_data=filtered_data.sort_values('ProductId', axis=0, ascending=True,\\\n",
        "                                      inplace=False, kind='quicksort',\\\n",
        "                                      na_position='last')\n",
        "# Deduplication of entries\n",
        "final=sorted_data.drop_duplicates(subset={\"UserId\",\"ProfileName\",\"Time\",\"Text\"},\\\n",
        "                                  keep='first', inplace=False)\n",
        "final=final[final.HelpfulnessNumerator<=final.HelpfulnessDenominator]\n",
        "final.shape"
      ],
      "execution_count": 0,
      "outputs": [
        {
          "output_type": "execute_result",
          "data": {
            "text/plain": [
              "(364171, 10)"
            ]
          },
          "metadata": {
            "tags": []
          },
          "execution_count": 3
        }
      ]
    },
    {
      "cell_type": "code",
      "metadata": {
        "_uuid": "898b3abad347377fdfb0381617cbdc90a56b329b",
        "id": "CcIv01DtXz0t",
        "colab_type": "code",
        "outputId": "9c5d7690-50da-420c-d5a4-0c9394b41bcf",
        "colab": {}
      },
      "source": [
        "# Sorting data on the basis of TIME\n",
        "final = final[:30000]\n",
        "final = final.sort_values(by=['Time'], axis=0)\n",
        "final.shape"
      ],
      "execution_count": 0,
      "outputs": [
        {
          "output_type": "execute_result",
          "data": {
            "text/plain": [
              "(30000, 10)"
            ]
          },
          "metadata": {
            "tags": []
          },
          "execution_count": 4
        }
      ]
    },
    {
      "cell_type": "markdown",
      "metadata": {
        "_uuid": "c1d28b0a02c9d94b56b778e8f4c0249fd428888a",
        "id": "Cp_rPPVgXz0x",
        "colab_type": "text"
      },
      "source": [
        "## Text preprocessing"
      ]
    },
    {
      "cell_type": "code",
      "metadata": {
        "_uuid": "1dab50674a290670c38924853c9e8456bb9b7868",
        "id": "XEWTjwbbXz0y",
        "colab_type": "code",
        "colab": {}
      },
      "source": [
        "def cleanhtml(sentence): #function to clean the word of any html-tags\n",
        "    cleanr = re.compile('<.*?>')\n",
        "    cleantext = re.sub(cleanr, ' ', sentence)\n",
        "    return cleantext\n",
        "def cleanpunc(sentence): #function to clean the word of any punctuation or special characters\n",
        "    cleaned = re.sub(r'[?|!|\\'|\"|#]',r'',sentence)\n",
        "    cleaned = re.sub(r'[.|,|)|(|\\|/]',r' ',cleaned)\n",
        "    return  cleaned\n",
        "stop = set(stopwords.words('english')) #set of stopwords\n",
        "sno = nltk.stem.SnowballStemmer('english') #initialising the snowball stemmer\n",
        "final_text = []\n",
        "for index in range(len(final['Text'])):\n",
        "    filtered_sentence=[]\n",
        "    sent=cleanhtml(final['Text'].iloc[index]) # remove HTMl tags\n",
        "    for w in sent.split():\n",
        "        for cleaned_words in cleanpunc(w).split():# clean punctuation marks from words\n",
        "            if((cleaned_words.isalpha()) & (len(cleaned_words)>2)):# verifying word must be a alphabet and atleat two character long\n",
        "                cleaned_words = cleaned_words.lower()\n",
        "                if(cleaned_words not in stop):# blocks stopwords\n",
        "                    s=(sno.stem(cleaned_words))# stemming in process\n",
        "                    filtered_sentence.append(s)\n",
        "                else:\n",
        "                    continue\n",
        "            else:\n",
        "                continue \n",
        "    str1 = \" \".join(filtered_sentence) #final cleaned string of words\n",
        "    final_text.append(str1)"
      ],
      "execution_count": 0,
      "outputs": []
    },
    {
      "cell_type": "code",
      "metadata": {
        "_uuid": "4b59d23177a6bb83fb3eb5bfeb43b22c165a746a",
        "id": "wIRvvGiKXz03",
        "colab_type": "code",
        "outputId": "40b4e61a-bcf7-42ff-f357-a2ccdc16d5f7",
        "colab": {}
      },
      "source": [
        "amazon_data_text = pd.Series(final_text)\n",
        "amazon_data_label = pd.Series(final['Score'])\n",
        "print(amazon_data_text.shape)\n",
        "print(amazon_data_label.shape)"
      ],
      "execution_count": 0,
      "outputs": [
        {
          "output_type": "stream",
          "text": [
            "(30000,)\n",
            "(30000,)\n"
          ],
          "name": "stdout"
        }
      ]
    },
    {
      "cell_type": "code",
      "metadata": {
        "id": "w3FRfKkgXz09",
        "colab_type": "code",
        "colab": {}
      },
      "source": [
        "#Spliting sample data into train_data and test_data (75:25)\n",
        "x_train, x_test, y_train, y_test = cross_validation.train_test_split(\\\n",
        "                                                                     amazon_data_text,\\\n",
        "                                                                     amazon_data_label,\\\n",
        "                                                                     test_size = 0.25,\\\n",
        "                                                                     random_state=0)"
      ],
      "execution_count": 0,
      "outputs": []
    },
    {
      "cell_type": "code",
      "metadata": {
        "id": "7CoosKPJXz1B",
        "colab_type": "code",
        "outputId": "71efc6d7-b34a-4421-e283-e1fd09e13c48",
        "colab": {}
      },
      "source": [
        "print(y_test.value_counts())"
      ],
      "execution_count": 0,
      "outputs": [
        {
          "output_type": "stream",
          "text": [
            "positive    6355\n",
            "negative    1145\n",
            "Name: Score, dtype: int64\n"
          ],
          "name": "stdout"
        }
      ]
    },
    {
      "cell_type": "markdown",
      "metadata": {
        "_uuid": "b84b1ef9aeae8e94378e01fc576a049c599e5f43",
        "id": "O2DikAgPXz1G",
        "colab_type": "text"
      },
      "source": [
        "### Bag of words."
      ]
    },
    {
      "cell_type": "code",
      "metadata": {
        "_uuid": "8b045c6588c99af0333f0dd8f917815dc2f90dbb",
        "id": "KAtopeh_Xz1H",
        "colab_type": "code",
        "outputId": "812f8528-de2c-45a9-e5c1-f6edcc890ed4",
        "colab": {}
      },
      "source": [
        "# Convert train data from text to vectors by BOW.\n",
        "count_vect = CountVectorizer(analyzer='word') #in scikit-learn\n",
        "bow_text_train_vector = count_vect.fit_transform(x_train)\n",
        "bow_text_train_vector = bow_text_train_vector\n",
        "bow_text_train_vector.shape"
      ],
      "execution_count": 0,
      "outputs": [
        {
          "output_type": "execute_result",
          "data": {
            "text/plain": [
              "(22500, 20439)"
            ]
          },
          "metadata": {
            "tags": []
          },
          "execution_count": 9
        }
      ]
    },
    {
      "cell_type": "code",
      "metadata": {
        "_uuid": "c80f024adaab994847cf39b380df81f3d5508577",
        "id": "vnDNoUATXz1L",
        "colab_type": "code",
        "outputId": "46347da6-d9b8-4488-eaf8-29d3d1b027bf",
        "colab": {}
      },
      "source": [
        "# converts test data from text to vectors by BOW.\n",
        "bow_text_test_vector = count_vect.transform(x_test)\n",
        "bow_text_test_vector = bow_text_test_vector\n",
        "print(bow_text_test_vector.shape)"
      ],
      "execution_count": 0,
      "outputs": [
        {
          "output_type": "stream",
          "text": [
            "(7500, 20439)\n"
          ],
          "name": "stdout"
        }
      ]
    },
    {
      "cell_type": "code",
      "metadata": {
        "_uuid": "4f2e959194a9bda490ef66ef1679da6a82f2a348",
        "id": "3wHFHMKmXz1S",
        "colab_type": "code",
        "outputId": "a77b200a-6ae8-4a27-c0c6-22b259c8c21c",
        "colab": {}
      },
      "source": [
        "# empty list that will hold cv scores\n",
        "cv_scores = []\n",
        "k_values = list(range(3,15))\n",
        "# perform 10-fold cross validation\n",
        "for k in k_values:\n",
        "    knn = KNeighborsClassifier(n_neighbors=k)\n",
        "    scores = cross_val_score(knn, bow_text_train_vector, y_train, cv=10, scoring='accuracy')\n",
        "    cv_scores.append(scores.mean())\n",
        "# changing to misclassification error\n",
        "MSE = [1 - x for x in cv_scores]\n",
        "\n",
        "# determining best k\n",
        "bow_optimal_k = k_values[MSE.index(min(MSE))]\n",
        "print('\\nThe optimal number of neighbors is %d.' % bow_optimal_k)\n",
        "\n",
        "# plot misclassification error vs k \n",
        "plt.plot(k_values, MSE)\n",
        "\n",
        "for xy in zip(k_values, np.round(MSE,3)):\n",
        "    plt.annotate('(%s, %s)' % xy, xy=xy, textcoords='data')\n",
        "\n",
        "plt.xlabel('Number of Neighbors K')\n",
        "plt.ylabel('Misclassification Error')\n",
        "plt.show()\n",
        "\n",
        "print(\"the misclassification error for each k value is : \", np.round(MSE,3))"
      ],
      "execution_count": 0,
      "outputs": [
        {
          "output_type": "stream",
          "text": [
            "\n",
            "The optimal number of neighbors is 8.\n"
          ],
          "name": "stdout"
        },
        {
          "output_type": "display_data",
          "data": {
            "image/png": "[encoded data removed]",
            "text/plain": [
              "<matplotlib.figure.Figure at 0x7fd6110ba6d8>"
            ]
          },
          "metadata": {
            "tags": []
          }
        },
        {
          "output_type": "stream",
          "text": [
            "the misclassification error for each k value is :  [0.152 0.157 0.148 0.148 0.147 0.147 0.147 0.147 0.148 0.148 0.148 0.148]\n"
          ],
          "name": "stdout"
        }
      ]
    },
    {
      "cell_type": "code",
      "metadata": {
        "_uuid": "451b0dd4b306ee2d57922137bf16c9fb35efc9c5",
        "id": "tidHWi-MXz1Y",
        "colab_type": "code",
        "outputId": "0c756462-c9eb-4d0e-c871-e0892a5ac572",
        "colab": {}
      },
      "source": [
        "# apply k-NN(brute force)\n",
        "# Instantiate learning model\n",
        "knn_brute = KNeighborsClassifier(n_neighbors= bow_optimal_k, algorithm = 'brute')\n",
        "# fitting the model\n",
        "knn_brute.fit(bow_text_train_vector, y_train)\n",
        "# response prediction\n",
        "pred = knn_brute.predict(bow_text_test_vector)\n",
        "# evaluate accuracy\n",
        "acc = accuracy_score(y_test, pred)*100\n",
        "print('\\nThe accuracy of the knn classifier for k = %d is %f%%' % (bow_optimal_k, acc))\n",
        "conf_matrix = confusion_matrix(y_test, pred)\n",
        "confusion_matrix_df = pd.DataFrame(conf_matrix, [\"Negative\", \"Positive\"],\\\n",
        "                                   [\"Negative\", \"Positive\"],\\\n",
        "                                   dtype=int)\n",
        "sns.heatmap(confusion_matrix_df, annot=True)\n",
        "plt.title(\"CONFUSION MATRIX\")"
      ],
      "execution_count": 0,
      "outputs": [
        {
          "output_type": "stream",
          "text": [
            "\n",
            "The accuracy of the knn classifier for k = 8 is 85.066667%\n"
          ],
          "name": "stdout"
        },
        {
          "output_type": "execute_result",
          "data": {
            "text/plain": [
              "Text(0.5,1,'CONFUSION MATRIX')"
            ]
          },
          "metadata": {
            "tags": []
          },
          "execution_count": 12
        },
        {
          "output_type": "display_data",
          "data": {
            "image/png": "[encoded data removed]",
            "text/plain": [
              "<matplotlib.figure.Figure at 0x7fd5ecb2c7f0>"
            ]
          },
          "metadata": {
            "tags": []
          }
        }
      ]
    },
    {
      "cell_type": "code",
      "metadata": {
        "_uuid": "c12701c522d897b8d439b70d83329538f7a7c622",
        "id": "9N4bVXsGXz1c",
        "colab_type": "code",
        "outputId": "7fe95e92-4190-4d16-b3c1-ac716531e3cc",
        "colab": {}
      },
      "source": [
        "# Apply k-NN(kd tree)\n",
        "# Instantiate learning model\n",
        "knn_brute = KNeighborsClassifier(n_neighbors= bow_optimal_k, algorithm = 'kd_tree')\n",
        "# fitting the model\n",
        "knn_brute.fit(bow_text_train_vector, y_train)\n",
        "# response prediction\n",
        "pred = knn_brute.predict(bow_text_test_vector)\n",
        "# evaluate accuracy\n",
        "acc = accuracy_score(y_test, pred)*100\n",
        "print('\\nThe accuracy of the knn classifier for k = %d is %f%%' % (bow_optimal_k, acc))\n",
        "conf_matrix = confusion_matrix(y_test, pred)\n",
        "confusion_matrix_df = pd.DataFrame(conf_matrix, [\"Negative\", \"Positive\"],\\\n",
        "                                   [\"Negative\", \"Positive\"],\\\n",
        "                                   dtype=int)\n",
        "sns.heatmap(confusion_matrix_df, annot=True)\n",
        "plt.title(\"CONFUSION MATRIX\")"
      ],
      "execution_count": 0,
      "outputs": [
        {
          "output_type": "stream",
          "text": [
            "/home/dev/anaconda3/lib/python3.6/site-packages/sklearn/neighbors/base.py:212: UserWarning: cannot use tree with sparse input: using brute force\n",
            "  warnings.warn(\"cannot use tree with sparse input: \"\n"
          ],
          "name": "stderr"
        },
        {
          "output_type": "stream",
          "text": [
            "\n",
            "The accuracy of the knn classifier for k = 8 is 85.066667%\n"
          ],
          "name": "stdout"
        },
        {
          "output_type": "execute_result",
          "data": {
            "text/plain": [
              "Text(0.5,1,'CONFUSION MATRIX')"
            ]
          },
          "metadata": {
            "tags": []
          },
          "execution_count": 13
        },
        {
          "output_type": "display_data",
          "data": {
            "image/png": "[encoded data removed]",
            "text/plain": [
              "<matplotlib.figure.Figure at 0x7fd5f6d87b38>"
            ]
          },
          "metadata": {
            "tags": []
          }
        }
      ]
    },
    {
      "cell_type": "markdown",
      "metadata": {
        "_uuid": "952db0173ea73a668dada602f394867fb0df3279",
        "id": "8kKKWL5oXz1g",
        "colab_type": "text"
      },
      "source": [
        "#### Observations :\n",
        "* Applied Bag of words to convert text to vector.\n",
        "* Hyperparameter for the k-NN model is 8.\n",
        "* Got accuracy of 85.066667%."
      ]
    }
  ]
}